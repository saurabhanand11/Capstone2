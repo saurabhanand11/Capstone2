{
 "cells": [
  {
   "cell_type": "markdown",
   "metadata": {},
   "source": [
    "# Principal Component Analysis"
   ]
  },
  {
   "cell_type": "markdown",
   "metadata": {},
   "source": [
    "** Importing libraries and load the item data **"
   ]
  },
  {
   "cell_type": "code",
   "execution_count": 33,
   "metadata": {
    "collapsed": true
   },
   "outputs": [],
   "source": [
    "import numpy as np\n",
    "import pandas as pd\n",
    "import matplotlib.pyplot as plt\n",
    "%matplotlib inline\n",
    "import seaborn as sns\n",
    "from sklearn.preprocessing import StandardScaler\n",
    "from sklearn.decomposition import  PCA"
   ]
  },
  {
   "cell_type": "markdown",
   "metadata": {},
   "source": [
    "** Importing the full item data that we saved before.(item_data.csv)**\n"
   ]
  },
  {
   "cell_type": "code",
   "execution_count": 34,
   "metadata": {},
   "outputs": [
    {
     "data": {
      "text/html": [
       "<div>\n",
       "<style>\n",
       "    .dataframe thead tr:only-child th {\n",
       "        text-align: right;\n",
       "    }\n",
       "\n",
       "    .dataframe thead th {\n",
       "        text-align: left;\n",
       "    }\n",
       "\n",
       "    .dataframe tbody tr th {\n",
       "        vertical-align: top;\n",
       "    }\n",
       "</style>\n",
       "<table border=\"1\" class=\"dataframe\">\n",
       "  <thead>\n",
       "    <tr style=\"text-align: right;\">\n",
       "      <th></th>\n",
       "      <th>10002</th>\n",
       "      <th>10120</th>\n",
       "      <th>10125</th>\n",
       "      <th>10133</th>\n",
       "      <th>10135</th>\n",
       "      <th>11001</th>\n",
       "      <th>15034</th>\n",
       "      <th>15036</th>\n",
       "      <th>15039</th>\n",
       "      <th>15044A</th>\n",
       "      <th>...</th>\n",
       "      <th>90204</th>\n",
       "      <th>90205A</th>\n",
       "      <th>90205C</th>\n",
       "      <th>90208</th>\n",
       "      <th>90209A</th>\n",
       "      <th>90209C</th>\n",
       "      <th>C2</th>\n",
       "      <th>D</th>\n",
       "      <th>M</th>\n",
       "      <th>POST</th>\n",
       "    </tr>\n",
       "    <tr>\n",
       "      <th>CustomerID</th>\n",
       "      <th></th>\n",
       "      <th></th>\n",
       "      <th></th>\n",
       "      <th></th>\n",
       "      <th></th>\n",
       "      <th></th>\n",
       "      <th></th>\n",
       "      <th></th>\n",
       "      <th></th>\n",
       "      <th></th>\n",
       "      <th></th>\n",
       "      <th></th>\n",
       "      <th></th>\n",
       "      <th></th>\n",
       "      <th></th>\n",
       "      <th></th>\n",
       "      <th></th>\n",
       "      <th></th>\n",
       "      <th></th>\n",
       "      <th></th>\n",
       "      <th></th>\n",
       "    </tr>\n",
       "  </thead>\n",
       "  <tbody>\n",
       "    <tr>\n",
       "      <th>12347</th>\n",
       "      <td>0</td>\n",
       "      <td>0</td>\n",
       "      <td>0</td>\n",
       "      <td>0</td>\n",
       "      <td>0</td>\n",
       "      <td>0</td>\n",
       "      <td>0</td>\n",
       "      <td>0</td>\n",
       "      <td>0</td>\n",
       "      <td>0</td>\n",
       "      <td>...</td>\n",
       "      <td>0</td>\n",
       "      <td>0</td>\n",
       "      <td>0</td>\n",
       "      <td>0</td>\n",
       "      <td>0</td>\n",
       "      <td>0</td>\n",
       "      <td>0</td>\n",
       "      <td>0</td>\n",
       "      <td>0</td>\n",
       "      <td>0</td>\n",
       "    </tr>\n",
       "    <tr>\n",
       "      <th>12348</th>\n",
       "      <td>0</td>\n",
       "      <td>0</td>\n",
       "      <td>0</td>\n",
       "      <td>0</td>\n",
       "      <td>0</td>\n",
       "      <td>0</td>\n",
       "      <td>0</td>\n",
       "      <td>0</td>\n",
       "      <td>0</td>\n",
       "      <td>0</td>\n",
       "      <td>...</td>\n",
       "      <td>0</td>\n",
       "      <td>0</td>\n",
       "      <td>0</td>\n",
       "      <td>0</td>\n",
       "      <td>0</td>\n",
       "      <td>0</td>\n",
       "      <td>0</td>\n",
       "      <td>0</td>\n",
       "      <td>0</td>\n",
       "      <td>8</td>\n",
       "    </tr>\n",
       "    <tr>\n",
       "      <th>12349</th>\n",
       "      <td>0</td>\n",
       "      <td>0</td>\n",
       "      <td>0</td>\n",
       "      <td>0</td>\n",
       "      <td>0</td>\n",
       "      <td>0</td>\n",
       "      <td>0</td>\n",
       "      <td>0</td>\n",
       "      <td>0</td>\n",
       "      <td>0</td>\n",
       "      <td>...</td>\n",
       "      <td>0</td>\n",
       "      <td>0</td>\n",
       "      <td>0</td>\n",
       "      <td>0</td>\n",
       "      <td>0</td>\n",
       "      <td>0</td>\n",
       "      <td>0</td>\n",
       "      <td>0</td>\n",
       "      <td>0</td>\n",
       "      <td>2</td>\n",
       "    </tr>\n",
       "    <tr>\n",
       "      <th>12350</th>\n",
       "      <td>0</td>\n",
       "      <td>0</td>\n",
       "      <td>0</td>\n",
       "      <td>0</td>\n",
       "      <td>0</td>\n",
       "      <td>0</td>\n",
       "      <td>0</td>\n",
       "      <td>0</td>\n",
       "      <td>0</td>\n",
       "      <td>0</td>\n",
       "      <td>...</td>\n",
       "      <td>0</td>\n",
       "      <td>0</td>\n",
       "      <td>0</td>\n",
       "      <td>0</td>\n",
       "      <td>0</td>\n",
       "      <td>0</td>\n",
       "      <td>0</td>\n",
       "      <td>0</td>\n",
       "      <td>0</td>\n",
       "      <td>2</td>\n",
       "    </tr>\n",
       "    <tr>\n",
       "      <th>12352</th>\n",
       "      <td>0</td>\n",
       "      <td>0</td>\n",
       "      <td>0</td>\n",
       "      <td>0</td>\n",
       "      <td>0</td>\n",
       "      <td>0</td>\n",
       "      <td>0</td>\n",
       "      <td>0</td>\n",
       "      <td>0</td>\n",
       "      <td>0</td>\n",
       "      <td>...</td>\n",
       "      <td>0</td>\n",
       "      <td>0</td>\n",
       "      <td>0</td>\n",
       "      <td>0</td>\n",
       "      <td>0</td>\n",
       "      <td>0</td>\n",
       "      <td>0</td>\n",
       "      <td>0</td>\n",
       "      <td>9</td>\n",
       "      <td>10</td>\n",
       "    </tr>\n",
       "  </tbody>\n",
       "</table>\n",
       "<p>5 rows × 2796 columns</p>\n",
       "</div>"
      ],
      "text/plain": [
       "            10002  10120  10125  10133  10135  11001  15034  15036  15039  \\\n",
       "CustomerID                                                                  \n",
       "12347           0      0      0      0      0      0      0      0      0   \n",
       "12348           0      0      0      0      0      0      0      0      0   \n",
       "12349           0      0      0      0      0      0      0      0      0   \n",
       "12350           0      0      0      0      0      0      0      0      0   \n",
       "12352           0      0      0      0      0      0      0      0      0   \n",
       "\n",
       "            15044A  ...   90204  90205A  90205C  90208  90209A  90209C  C2  D  \\\n",
       "CustomerID          ...                                                         \n",
       "12347            0  ...       0       0       0      0       0       0   0  0   \n",
       "12348            0  ...       0       0       0      0       0       0   0  0   \n",
       "12349            0  ...       0       0       0      0       0       0   0  0   \n",
       "12350            0  ...       0       0       0      0       0       0   0  0   \n",
       "12352            0  ...       0       0       0      0       0       0   0  0   \n",
       "\n",
       "            M  POST  \n",
       "CustomerID           \n",
       "12347       0     0  \n",
       "12348       0     8  \n",
       "12349       0     2  \n",
       "12350       0     2  \n",
       "12352       9    10  \n",
       "\n",
       "[5 rows x 2796 columns]"
      ]
     },
     "execution_count": 34,
     "metadata": {},
     "output_type": "execute_result"
    }
   ],
   "source": [
    "item_data = pd.read_csv('item_data.csv', index_col=['CustomerID'])\n",
    "item_data.head()"
   ]
  },
  {
   "cell_type": "markdown",
   "metadata": {},
   "source": [
    "Confirming, this dataset should have 2796 features as created before:"
   ]
  },
  {
   "cell_type": "code",
   "execution_count": 35,
   "metadata": {},
   "outputs": [
    {
     "data": {
      "text/plain": [
       "(422, 2796)"
      ]
     },
     "execution_count": 35,
     "metadata": {},
     "output_type": "execute_result"
    }
   ],
   "source": [
    "item_data.shape"
   ]
  },
  {
   "cell_type": "markdown",
   "metadata": {},
   "source": [
    "<span id=\"item-data\"></span>\n",
    "# Item data - Principal Component Analysis\n",
    "\n",
    "\n",
    "<br>\n",
    "**First, scale <code style=\"color:crimson\">item_data</code>,  imported just before.**\n"
   ]
  },
  {
   "cell_type": "code",
   "execution_count": 36,
   "metadata": {},
   "outputs": [
    {
     "data": {
      "text/plain": [
       "array([[-0.13647354, -0.04873702, -0.11083616, ..., -0.08461622,\n",
       "        -0.17314913, -0.67616652],\n",
       "       [-0.13647354, -0.04873702, -0.11083616, ..., -0.08461622,\n",
       "        -0.17314913,  0.37821601],\n",
       "       [-0.13647354, -0.04873702, -0.11083616, ..., -0.08461622,\n",
       "        -0.17314913, -0.41257089],\n",
       "       [-0.13647354, -0.04873702, -0.11083616, ..., -0.08461622,\n",
       "        -0.17314913, -0.41257089],\n",
       "       [-0.13647354, -0.04873702, -0.11083616, ..., -0.08461622,\n",
       "         5.5954509 ,  0.64181164]])"
      ]
     },
     "execution_count": 36,
     "metadata": {},
     "output_type": "execute_result"
    }
   ],
   "source": [
    "# Initialize instance of StandardScaler\n",
    "sc = StandardScaler()\n",
    "\n",
    "# Fit and transform item_data\n",
    "item_data_scaled = sc.fit_transform(item_data)\n",
    "\n",
    "# Display first 5 rows of item_data_scaled\n",
    "item_data_scaled[:5]"
   ]
  },
  {
   "cell_type": "markdown",
   "metadata": {},
   "source": [
    "**Initialize and fit an instance of the PCA transformation.**\n",
    "* Keeping all of the components for now, not passing any argument"
   ]
  },
  {
   "cell_type": "code",
   "execution_count": 37,
   "metadata": {
    "collapsed": true
   },
   "outputs": [],
   "source": [
    "# Initialize and fit a PCA transformation\n",
    "pca = PCA()"
   ]
  },
  {
   "cell_type": "markdown",
   "metadata": {},
   "source": [
    "**Generating new \"principal component features\" from <code style=\"color:crimson\">item_data_scaled</code>.**\n"
   ]
  },
  {
   "cell_type": "code",
   "execution_count": 38,
   "metadata": {},
   "outputs": [
    {
     "data": {
      "text/plain": [
       "array([[  5.18063695e+00,   7.18817541e-01,   1.54869085e+00, ...,\n",
       "         -2.14468752e-05,   9.72318157e-15,   2.89688263e-17],\n",
       "       [ -3.36799957e+00,  -3.44660478e+00,   7.61253706e-01, ...,\n",
       "         -1.62949609e-04,   9.72318157e-15,   2.89688263e-17],\n",
       "       [ -5.69099637e-01,  -1.70242298e+00,   9.93408600e-01, ...,\n",
       "         -2.05530000e-05,   9.72318157e-15,   2.89688263e-17],\n",
       "       [ -3.94259639e+00,  -3.81790283e+00,   1.18687857e+00, ...,\n",
       "          4.42773390e-05,   9.72318157e-15,   2.89688263e-17],\n",
       "       [ -1.10374112e+00,  -2.81086284e+00,   1.96949080e+00, ...,\n",
       "         -4.06654854e-05,   9.72318157e-15,   2.89688263e-17]])"
      ]
     },
     "execution_count": 38,
     "metadata": {},
     "output_type": "execute_result"
    }
   ],
   "source": [
    "# Generate new features\n",
    "PC = pca.fit_transform(item_data_scaled)\n",
    "\n",
    "# Display first 5 rows\n",
    "PC[:5]"
   ]
  },
  {
   "cell_type": "markdown",
   "metadata": {},
   "source": [
    "# Explained variance"
   ]
  },
  {
   "cell_type": "markdown",
   "metadata": {},
   "source": [
    "\n",
    "**Here we will calculate and plot the <u>cumulative</u> explained variance.**\n",
    "* We'll plot it so we can see how many $PC$ features we'd need to keep in order to capture most of the original variance."
   ]
  },
  {
   "cell_type": "code",
   "execution_count": 39,
   "metadata": {},
   "outputs": [
    {
     "data": {
      "image/png": "[encoded data removed]",
      "text/plain": [
       "<matplotlib.figure.Figure at 0x85f78d0>"
      ]
     },
     "metadata": {},
     "output_type": "display_data"
    }
   ],
   "source": [
    "# Cumulative explained variance\n",
    "cumulative_explained_variance = np.cumsum(pca.explained_variance_ratio_)\n",
    "\n",
    "# Plot cumulative explained variance\n",
    "plt.plot(range(len(cumulative_explained_variance)), cumulative_explained_variance)\n",
    "plt.show()"
   ]
  },
  {
   "cell_type": "code",
   "execution_count": 40,
   "metadata": {},
   "outputs": [
    {
     "data": {
      "text/plain": [
       "0.87588010485156753"
      ]
     },
     "execution_count": 40,
     "metadata": {},
     "output_type": "execute_result"
    }
   ],
   "source": [
    "# How much variance we'd capture with the first 150 components\n",
    "cumulative_explained_variance[150]"
   ]
  },
  {
   "cell_type": "markdown",
   "metadata": {},
   "source": [
    "**Initialize and fit another PCA transformation.**\n",
    "* This time, only keep 150 components.\n",
    "* Generate the principal component features from the fitted instance and name the new matrix <code style=\"color:crimson\">PC_items</code>.\n",
    "* Then, display the shape of <code style=\"color:crimson\">PC_items</code> to confirm it only has 150 features."
   ]
  },
  {
   "cell_type": "code",
   "execution_count": 41,
   "metadata": {},
   "outputs": [
    {
     "data": {
      "text/plain": [
       "(422, 150)"
      ]
     },
     "execution_count": 41,
     "metadata": {},
     "output_type": "execute_result"
    }
   ],
   "source": [
    "# Initialize PCA transformation, only keeping 150 components\n",
    "pca = PCA(n_components=150)\n",
    "\n",
    "# Fit and transform item_data_scaled\n",
    "PC_items = pca.fit_transform(item_data_scaled)\n",
    "\n",
    "# Display shape of PC_items\n",
    "PC_items.shape"
   ]
  },
  {
   "cell_type": "markdown",
   "metadata": {},
   "source": [
    "** Just for convenience, let's put <code style=\"color:steel blue\">PC_items</code> into a new dataframe.**\n"
   ]
  },
  {
   "cell_type": "code",
   "execution_count": 42,
   "metadata": {},
   "outputs": [
    {
     "data": {
      "text/html": [
       "<div>\n",
       "<style>\n",
       "    .dataframe thead tr:only-child th {\n",
       "        text-align: right;\n",
       "    }\n",
       "\n",
       "    .dataframe thead th {\n",
       "        text-align: left;\n",
       "    }\n",
       "\n",
       "    .dataframe tbody tr th {\n",
       "        vertical-align: top;\n",
       "    }\n",
       "</style>\n",
       "<table border=\"1\" class=\"dataframe\">\n",
       "  <thead>\n",
       "    <tr style=\"text-align: right;\">\n",
       "      <th></th>\n",
       "      <th>PC1</th>\n",
       "      <th>PC2</th>\n",
       "      <th>PC3</th>\n",
       "      <th>PC4</th>\n",
       "      <th>PC5</th>\n",
       "      <th>PC6</th>\n",
       "      <th>PC7</th>\n",
       "      <th>PC8</th>\n",
       "      <th>PC9</th>\n",
       "      <th>PC10</th>\n",
       "      <th>...</th>\n",
       "      <th>PC141</th>\n",
       "      <th>PC142</th>\n",
       "      <th>PC143</th>\n",
       "      <th>PC144</th>\n",
       "      <th>PC145</th>\n",
       "      <th>PC146</th>\n",
       "      <th>PC147</th>\n",
       "      <th>PC148</th>\n",
       "      <th>PC149</th>\n",
       "      <th>PC150</th>\n",
       "    </tr>\n",
       "    <tr>\n",
       "      <th>CustomerID</th>\n",
       "      <th></th>\n",
       "      <th></th>\n",
       "      <th></th>\n",
       "      <th></th>\n",
       "      <th></th>\n",
       "      <th></th>\n",
       "      <th></th>\n",
       "      <th></th>\n",
       "      <th></th>\n",
       "      <th></th>\n",
       "      <th></th>\n",
       "      <th></th>\n",
       "      <th></th>\n",
       "      <th></th>\n",
       "      <th></th>\n",
       "      <th></th>\n",
       "      <th></th>\n",
       "      <th></th>\n",
       "      <th></th>\n",
       "      <th></th>\n",
       "      <th></th>\n",
       "    </tr>\n",
       "  </thead>\n",
       "  <tbody>\n",
       "    <tr>\n",
       "      <th>12347</th>\n",
       "      <td>5.180637</td>\n",
       "      <td>0.718818</td>\n",
       "      <td>1.548691</td>\n",
       "      <td>-0.007762</td>\n",
       "      <td>-2.314253</td>\n",
       "      <td>-2.536359</td>\n",
       "      <td>0.967663</td>\n",
       "      <td>-0.735692</td>\n",
       "      <td>0.997183</td>\n",
       "      <td>6.819645</td>\n",
       "      <td>...</td>\n",
       "      <td>-0.042104</td>\n",
       "      <td>0.093376</td>\n",
       "      <td>0.351750</td>\n",
       "      <td>-0.214040</td>\n",
       "      <td>0.501834</td>\n",
       "      <td>0.015862</td>\n",
       "      <td>-0.083576</td>\n",
       "      <td>0.101375</td>\n",
       "      <td>-0.669811</td>\n",
       "      <td>-0.598750</td>\n",
       "    </tr>\n",
       "    <tr>\n",
       "      <th>12348</th>\n",
       "      <td>-3.368000</td>\n",
       "      <td>-3.446605</td>\n",
       "      <td>0.761256</td>\n",
       "      <td>0.806926</td>\n",
       "      <td>-1.031881</td>\n",
       "      <td>-1.086750</td>\n",
       "      <td>-0.431494</td>\n",
       "      <td>0.157940</td>\n",
       "      <td>-0.439192</td>\n",
       "      <td>-0.363441</td>\n",
       "      <td>...</td>\n",
       "      <td>-0.358197</td>\n",
       "      <td>1.824972</td>\n",
       "      <td>-2.023484</td>\n",
       "      <td>4.609122</td>\n",
       "      <td>-0.592557</td>\n",
       "      <td>1.290693</td>\n",
       "      <td>0.747739</td>\n",
       "      <td>1.847241</td>\n",
       "      <td>-1.347301</td>\n",
       "      <td>3.298932</td>\n",
       "    </tr>\n",
       "    <tr>\n",
       "      <th>12349</th>\n",
       "      <td>-0.569100</td>\n",
       "      <td>-1.702421</td>\n",
       "      <td>0.993412</td>\n",
       "      <td>0.784203</td>\n",
       "      <td>0.098077</td>\n",
       "      <td>-1.821577</td>\n",
       "      <td>-1.916209</td>\n",
       "      <td>-0.307812</td>\n",
       "      <td>-0.832751</td>\n",
       "      <td>1.634552</td>\n",
       "      <td>...</td>\n",
       "      <td>-0.976433</td>\n",
       "      <td>-0.931319</td>\n",
       "      <td>-4.301407</td>\n",
       "      <td>-1.629662</td>\n",
       "      <td>2.996648</td>\n",
       "      <td>-2.416725</td>\n",
       "      <td>-2.805716</td>\n",
       "      <td>-5.851804</td>\n",
       "      <td>-0.940464</td>\n",
       "      <td>0.054525</td>\n",
       "    </tr>\n",
       "    <tr>\n",
       "      <th>12350</th>\n",
       "      <td>-3.942596</td>\n",
       "      <td>-3.817902</td>\n",
       "      <td>1.186881</td>\n",
       "      <td>-0.839754</td>\n",
       "      <td>-1.408507</td>\n",
       "      <td>0.811212</td>\n",
       "      <td>-0.541209</td>\n",
       "      <td>0.313549</td>\n",
       "      <td>0.416172</td>\n",
       "      <td>0.503025</td>\n",
       "      <td>...</td>\n",
       "      <td>-1.509877</td>\n",
       "      <td>0.895428</td>\n",
       "      <td>0.005363</td>\n",
       "      <td>0.122255</td>\n",
       "      <td>0.043803</td>\n",
       "      <td>-0.790864</td>\n",
       "      <td>-1.352551</td>\n",
       "      <td>0.643589</td>\n",
       "      <td>1.868195</td>\n",
       "      <td>0.379954</td>\n",
       "    </tr>\n",
       "    <tr>\n",
       "      <th>12352</th>\n",
       "      <td>-1.103741</td>\n",
       "      <td>-2.810859</td>\n",
       "      <td>1.969488</td>\n",
       "      <td>0.505542</td>\n",
       "      <td>-0.162706</td>\n",
       "      <td>-0.785703</td>\n",
       "      <td>-0.266457</td>\n",
       "      <td>0.285660</td>\n",
       "      <td>1.801607</td>\n",
       "      <td>1.068215</td>\n",
       "      <td>...</td>\n",
       "      <td>4.195378</td>\n",
       "      <td>-5.235860</td>\n",
       "      <td>-1.154305</td>\n",
       "      <td>3.805815</td>\n",
       "      <td>-2.249280</td>\n",
       "      <td>-3.572425</td>\n",
       "      <td>1.493253</td>\n",
       "      <td>-3.281115</td>\n",
       "      <td>-0.906054</td>\n",
       "      <td>1.684750</td>\n",
       "    </tr>\n",
       "  </tbody>\n",
       "</table>\n",
       "<p>5 rows × 150 columns</p>\n",
       "</div>"
      ],
      "text/plain": [
       "                 PC1       PC2       PC3       PC4       PC5       PC6  \\\n",
       "CustomerID                                                               \n",
       "12347       5.180637  0.718818  1.548691 -0.007762 -2.314253 -2.536359   \n",
       "12348      -3.368000 -3.446605  0.761256  0.806926 -1.031881 -1.086750   \n",
       "12349      -0.569100 -1.702421  0.993412  0.784203  0.098077 -1.821577   \n",
       "12350      -3.942596 -3.817902  1.186881 -0.839754 -1.408507  0.811212   \n",
       "12352      -1.103741 -2.810859  1.969488  0.505542 -0.162706 -0.785703   \n",
       "\n",
       "                 PC7       PC8       PC9      PC10    ...        PC141  \\\n",
       "CustomerID                                            ...                \n",
       "12347       0.967663 -0.735692  0.997183  6.819645    ...    -0.042104   \n",
       "12348      -0.431494  0.157940 -0.439192 -0.363441    ...    -0.358197   \n",
       "12349      -1.916209 -0.307812 -0.832751  1.634552    ...    -0.976433   \n",
       "12350      -0.541209  0.313549  0.416172  0.503025    ...    -1.509877   \n",
       "12352      -0.266457  0.285660  1.801607  1.068215    ...     4.195378   \n",
       "\n",
       "               PC142     PC143     PC144     PC145     PC146     PC147  \\\n",
       "CustomerID                                                               \n",
       "12347       0.093376  0.351750 -0.214040  0.501834  0.015862 -0.083576   \n",
       "12348       1.824972 -2.023484  4.609122 -0.592557  1.290693  0.747739   \n",
       "12349      -0.931319 -4.301407 -1.629662  2.996648 -2.416725 -2.805716   \n",
       "12350       0.895428  0.005363  0.122255  0.043803 -0.790864 -1.352551   \n",
       "12352      -5.235860 -1.154305  3.805815 -2.249280 -3.572425  1.493253   \n",
       "\n",
       "               PC148     PC149     PC150  \n",
       "CustomerID                                \n",
       "12347       0.101375 -0.669811 -0.598750  \n",
       "12348       1.847241 -1.347301  3.298932  \n",
       "12349      -5.851804 -0.940464  0.054525  \n",
       "12350       0.643589  1.868195  0.379954  \n",
       "12352      -3.281115 -0.906054  1.684750  \n",
       "\n",
       "[5 rows x 150 columns]"
      ]
     },
     "execution_count": 42,
     "metadata": {},
     "output_type": "execute_result"
    }
   ],
   "source": [
    "# Put PC_items into a dataframe\n",
    "items_pca = pd.DataFrame(PC_items)\n",
    "\n",
    "# Name the columns\n",
    "items_pca.columns = ['PC{}'.format(i+1) for i in range(items_pca.shape[1])]\n",
    "\n",
    "# Update its index\n",
    "items_pca.index = item_data.index\n",
    "\n",
    "items_pca.head(5)"
   ]
  },
  {
   "cell_type": "markdown",
   "metadata": {},
   "source": [
    "**Finally, save this item dataframe with PCA features as <code style=\"color:crimson\">'pca_item_data.csv'</code>.**\n",
    "* We will compare the clusters made from using these features against those in <code style=\"color:crimson\">'threshold_item_data.csv'</code>.\n"
   ]
  },
  {
   "cell_type": "code",
   "execution_count": 43,
   "metadata": {
    "collapsed": true
   },
   "outputs": [],
   "source": [
    "# Save pca_item_data.csv\n",
    "items_pca.to_csv('pca_item_data.csv')"
   ]
  }
 ],
 "metadata": {
  "kernelspec": {
   "display_name": "Python 3",
   "language": "python",
   "name": "python3"
  },
  "language_info": {
   "codemirror_mode": {
    "name": "ipython",
    "version": 3
   },
   "file_extension": ".py",
   "mimetype": "text/x-python",
   "name": "python",
   "nbconvert_exporter": "python",
   "pygments_lexer": "ipython3",
   "version": "3.6.3"
  }
 },
 "nbformat": 4,
 "nbformat_minor": 1
}
